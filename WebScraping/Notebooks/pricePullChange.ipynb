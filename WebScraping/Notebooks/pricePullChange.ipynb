{
 "cells": [
  {
   "cell_type": "code",
   "execution_count": 23,
   "metadata": {},
   "outputs": [
    {
     "data": {
      "text/plain": [
       "'jade'"
      ]
     },
     "execution_count": 23,
     "metadata": {},
     "output_type": "execute_result"
    }
   ],
   "source": [
    "# ENV TESTING\n",
    "\n",
    "from dotenv import load_dotenv\n",
    "import os\n",
    "\n",
    "load_dotenv()\n",
    "os.getenv('TEST')"
   ]
  },
  {
   "cell_type": "code",
   "execution_count": 7,
   "metadata": {},
   "outputs": [],
   "source": [
    "from selenium import webdriver\n",
    "from selenium.webdriver.chrome.options import Options\n",
    "\n",
    "options = Options()\n",
    "options.headless = False\n",
    "options.add_argument(\"--window-size=1920,1200\")\n",
    "\n",
    "DRIVER_PATH = 'C:/Users/Jade/webdriver/chromedriver.exe'\n",
    "driver = webdriver.Chrome(options=options, executable_path=DRIVER_PATH)\n",
    "driver.get('https://www.bestbuy.ca/en-ca/collection/monitors-on-sale/13061?path=category%253AComputers%2B%2526%2BTablets%253Bcategory%253AMonitors%253Bcurrentoffers0enrchstring%253AOn%2BSale%253Bprice200to1200%253A%2524200%2B-%2B%2524299.99%257C%2524300%2B-%2B%2524399.99%253Bmonitorresolution0enrchstring%253A2560%2Bx%2B1440%257C4K%2BUltra%2BHD%2B%25283840%2Bx%2B2160%2529%253Blcdmonitorscreensize0enrchrange%253A25%2B-%2B29%2Binch%253BsellerName%253ABestBuyCanada')"
   ]
  },
  {
   "cell_type": "code",
   "execution_count": 8,
   "metadata": {},
   "outputs": [],
   "source": [
    "import time\n",
    "\n",
    "time.sleep(20)"
   ]
  },
  {
   "cell_type": "code",
   "execution_count": 9,
   "metadata": {},
   "outputs": [],
   "source": [
    "h1 = driver.find_elements_by_class_name('productItemName_3IZ3c')\n",
    "\n",
    "product_names = []\n",
    "for i in h1:\n",
    "    product_names.append(i.text)"
   ]
  },
  {
   "cell_type": "code",
   "execution_count": 10,
   "metadata": {},
   "outputs": [],
   "source": [
    "import pandas as pd\n",
    "from datetime import datetime\n",
    "\n",
    "df_new = pd.DataFrame (product_names, columns = ['ProductNames'])\n",
    "df_new['DateTime'] = str(datetime.now())"
   ]
  },
  {
   "cell_type": "code",
   "execution_count": 13,
   "metadata": {},
   "outputs": [
    {
     "name": "stdout",
     "output_type": "stream",
     "text": [
      "there is a change in on the page\n",
      "New items on page:\n",
      "LG UltraFine 27\" 4K Ultra HD 60Hz 5ms GTG IPS LED FreeSync Gaming Monitor (27UP650-W) - White\n",
      "Asus 28\" 4K Ultra HD 5ms GTG IPS LCD FreeSync Gaming Monitor (VG289Q) - Black\n",
      "Acer Nitro 27\" 1440p WQHD 144Hz 1ms GTG IPS LED FreeSync Gaming Monitor (VG270U) - Black\n",
      "Acer 27\" 1440p WQHD 165Hz 4ms GTG Curved VA LED Gaming Monitor (ED270U) - Black\n",
      "Samsung 28\" 4K UHD 60Hz 1ms GTG TN LED FreeSync Gaming Monitor (U28E590D) - Black/Silver - Open Box\n"
     ]
    }
   ],
   "source": [
    "import pandas as pd\n",
    "from datetime import datetime\n",
    "\n",
    "df_old = pd.read_csv('../Data/ProductNamesNew.csv')\n",
    "\n",
    "if df_old['ProductNames'].tolist() != df_new['ProductNames'].tolist():\n",
    "    print('there is a change in on the page')\n",
    "    df_replace = pd.read_csv('../Data/ProductNamesNew.csv')\n",
    "    df_replace.to_csv('../Data/ProductNamesOld.csv', index=False)\n",
    "    df_new.to_csv('../Data/ProductNamesNew.csv', index=False)\n",
    "\n",
    "    print(\"New items on page:\")\n",
    "    for i in df_new['ProductNames'].tolist():\n",
    "        # print('Test:' + str(i))\n",
    "        if i not in df_old['ProductNames'].tolist():\n",
    "            print(i)\n",
    "\n",
    "else:\n",
    "    print('No change on page')\n"
   ]
  },
  {
   "cell_type": "markdown",
   "metadata": {},
   "source": [
    "# Email Export of Data"
   ]
  },
  {
   "cell_type": "code",
   "execution_count": 27,
   "metadata": {},
   "outputs": [
    {
     "data": {
      "text/plain": [
       "True"
      ]
     },
     "execution_count": 27,
     "metadata": {},
     "output_type": "execute_result"
    }
   ],
   "source": [
    "# ENV TESTING\n",
    "\n",
    "from dotenv import load_dotenv\n",
    "\n",
    "load_dotenv()"
   ]
  },
  {
   "cell_type": "code",
   "execution_count": 30,
   "metadata": {},
   "outputs": [],
   "source": [
    "import smtplib, ssl\n",
    "import os\n",
    "\n",
    "port = 465  # For SSL\n",
    "smtp_server = \"smtp.gmail.com\"\n",
    "sender_email = os.getenv('EMAIL_SENDER')   # Enter your address\n",
    "receiver_email = os.getenv('EMAIL_RECEIVER')    # Enter receiver address\n",
    "password = os.getenv('PASSWORD_EMAIL')\n",
    "message = \"\"\"\\\n",
    "Subject: Hi there\n",
    "\n",
    "wHAT UP MY GUY #YUP :)\"\"\"\n",
    "\n",
    "context = ssl.create_default_context()\n",
    "with smtplib.SMTP_SSL(smtp_server, port, context=context) as server:\n",
    "    server.login(sender_email, password)\n",
    "    server.sendmail(sender_email, receiver_email, message)"
   ]
  },
  {
   "cell_type": "code",
   "execution_count": null,
   "metadata": {},
   "outputs": [],
   "source": [
    "import os\n",
    "\n",
    "os.system('pip freeze > ../requirements.txt')    # recreates the requirements.txt file"
   ]
  }
 ],
 "metadata": {
  "interpreter": {
   "hash": "1897a026865d0f9dbca7d2271936c757b8ffe40392d670d3e64fa6d450de2c5e"
  },
  "kernelspec": {
   "display_name": "Python 3.10.0 64-bit",
   "language": "python",
   "name": "python3"
  },
  "language_info": {
   "codemirror_mode": {
    "name": "ipython",
    "version": 3
   },
   "file_extension": ".py",
   "mimetype": "text/x-python",
   "name": "python",
   "nbconvert_exporter": "python",
   "pygments_lexer": "ipython3",
   "version": "3.7.11"
  },
  "orig_nbformat": 4
 },
 "nbformat": 4,
 "nbformat_minor": 2
}
