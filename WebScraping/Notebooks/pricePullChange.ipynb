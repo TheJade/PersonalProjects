{
 "cells": [
  {
   "cell_type": "code",
   "execution_count": 23,
   "metadata": {},
   "outputs": [
    {
     "data": {
      "text/plain": [
       "'jade'"
      ]
     },
     "execution_count": 23,
     "metadata": {},
     "output_type": "execute_result"
    }
   ],
   "source": [
    "# ENV TESTING\n",
    "\n",
    "from dotenv import load_dotenv\n",
    "import os\n",
    "\n",
    "load_dotenv()\n",
    "os.getenv('TEST')"
   ]
  },
  {
   "cell_type": "code",
   "execution_count": 7,
   "metadata": {},
   "outputs": [],
   "source": [
    "from selenium import webdriver\n",
    "from selenium.webdriver.chrome.options import Options\n",
    "\n",
    "options = Options()\n",
    "options.headless = False\n",
    "options.add_argument(\"--window-size=1920,1200\")\n",
    "\n",
    "DRIVER_PATH = 'C:/Users/Jade/webdriver/chromedriver.exe'\n",
    "driver = webdriver.Chrome(options=options, executable_path=DRIVER_PATH)\n",
    "driver.get('https://www.bestbuy.ca/en-ca/collection/monitors-on-sale/13061?path=category%253AComputers%2B%2526%2BTablets%253Bcategory%253AMonitors%253Bcurrentoffers0enrchstring%253AOn%2BSale%253Bprice200to1200%253A%2524200%2B-%2B%2524299.99%257C%2524300%2B-%2B%2524399.99%253Bmonitorresolution0enrchstring%253A2560%2Bx%2B1440%257C4K%2BUltra%2BHD%2B%25283840%2Bx%2B2160%2529%253Blcdmonitorscreensize0enrchrange%253A25%2B-%2B29%2Binch%253BsellerName%253ABestBuyCanada')"
   ]
  },
  {
   "cell_type": "code",
   "execution_count": 8,
   "metadata": {},
   "outputs": [],
   "source": [
    "import time\n",
    "\n",
    "time.sleep(20)"
   ]
  },
  {
   "cell_type": "code",
   "execution_count": 9,
   "metadata": {},
   "outputs": [],
   "source": [
    "h1 = driver.find_elements_by_class_name('productItemName_3IZ3c')\n",
    "\n",
    "product_names = []\n",
    "for i in h1:\n",
    "    product_names.append(i.text)"
   ]
  },
  {
   "cell_type": "code",
   "execution_count": 10,
   "metadata": {},
   "outputs": [],
   "source": [
    "import pandas as pd\n",
    "from datetime import datetime\n",
    "\n",
    "df_new = pd.DataFrame (product_names, columns = ['ProductNames'])\n",
    "df_new['DateTime'] = str(datetime.now())"
   ]
  },
  {
   "cell_type": "code",
   "execution_count": 31,
   "metadata": {},
   "outputs": [
    {
     "name": "stdout",
     "output_type": "stream",
     "text": [
      "No change on page\n"
     ]
    }
   ],
   "source": [
    "import pandas as pd\n",
    "from datetime import datetime\n",
    "\n",
    "df_old = pd.read_csv('../Data/ProductNamesNew.csv')\n",
    "\n",
    "if df_old['ProductNames'].tolist() != df_new['ProductNames'].tolist():\n",
    "    print('there is a change in on the page')\n",
    "    df_replace = pd.read_csv('../Data/ProductNamesNew.csv')\n",
    "    df_replace.to_csv('../Data/ProductNamesOld.csv', index=False)\n",
    "    df_new.to_csv('../Data/ProductNamesNew.csv', index=False)\n",
    "\n",
    "    print(\"New items on page:\")\n",
    "    for i in df_new['ProductNames'].tolist():\n",
    "        # print('Test:' + str(i))\n",
    "        if i not in df_old['ProductNames'].tolist():\n",
    "            print(i)\n",
    "\n",
    "else:\n",
    "    print('No change on page')\n"
   ]
  },
  {
   "cell_type": "markdown",
   "metadata": {},
   "source": [
    "# Email Export of Data"
   ]
  },
  {
   "cell_type": "code",
   "execution_count": 27,
   "metadata": {},
   "outputs": [
    {
     "data": {
      "text/plain": [
       "True"
      ]
     },
     "execution_count": 27,
     "metadata": {},
     "output_type": "execute_result"
    }
   ],
   "source": [
    "# ENV TESTING\n",
    "\n",
    "from dotenv import load_dotenv\n",
    "\n",
    "load_dotenv()"
   ]
  },
  {
   "cell_type": "code",
   "execution_count": 30,
   "metadata": {},
   "outputs": [],
   "source": [
    "import smtplib, ssl\n",
    "import os\n",
    "\n",
    "port = 465  # For SSL\n",
    "smtp_server = \"smtp.gmail.com\"\n",
    "sender_email = os.getenv('EMAIL_SENDER')   # Enter your address\n",
    "password = \n",
    "receiver_email = os.getenv('EMAIL_RECEIVER')    # Enter receiver address\n",
    "message = \"\"\"\\\n",
    "Subject: Hi there\n",
    "\n",
    "wHAT UP MY GUY #YUP :)\"\"\"\n",
    "\n",
    "context = ssl.create_default_context()\n",
    "with smtplib.SMTP_SSL(smtp_server, port, context=context) as server:\n",
    "    server.login(sender_email, password)\n",
    "    server.sendmail(sender_email, receiver_email, message)"
   ]
  },
  {
   "cell_type": "code",
   "execution_count": null,
   "metadata": {},
   "outputs": [],
   "source": [
    "import os\n",
    "\n",
    "os.system('pip freeze > ../requirements.txt')    # recreates the requirements.txt file"
   ]
  },
  {
   "cell_type": "code",
   "execution_count": 32,
   "metadata": {},
   "outputs": [
    {
     "data": {
      "text/html": [
       "<div>\n",
       "<style scoped>\n",
       "    .dataframe tbody tr th:only-of-type {\n",
       "        vertical-align: middle;\n",
       "    }\n",
       "\n",
       "    .dataframe tbody tr th {\n",
       "        vertical-align: top;\n",
       "    }\n",
       "\n",
       "    .dataframe thead th {\n",
       "        text-align: right;\n",
       "    }\n",
       "</style>\n",
       "<table border=\"1\" class=\"dataframe\">\n",
       "  <thead>\n",
       "    <tr style=\"text-align: right;\">\n",
       "      <th></th>\n",
       "      <th>ProductNames</th>\n",
       "      <th>DateTime</th>\n",
       "    </tr>\n",
       "  </thead>\n",
       "  <tbody>\n",
       "    <tr>\n",
       "      <th>0</th>\n",
       "      <td>Acer 27\" 1440p WQHD 170Hz 2ms GTG IPS LED Free...</td>\n",
       "      <td>2022-01-15 16:32:54.079223</td>\n",
       "    </tr>\n",
       "    <tr>\n",
       "      <th>1</th>\n",
       "      <td>LG UltraFine 27\" 4K Ultra HD 60Hz 5ms GTG IPS ...</td>\n",
       "      <td>2022-01-15 16:32:54.079223</td>\n",
       "    </tr>\n",
       "    <tr>\n",
       "      <th>2</th>\n",
       "      <td>Asus 28\" 4K Ultra HD 5ms GTG IPS LCD FreeSync ...</td>\n",
       "      <td>2022-01-15 16:32:54.079223</td>\n",
       "    </tr>\n",
       "    <tr>\n",
       "      <th>3</th>\n",
       "      <td>Acer Nitro 27\" 1440p WQHD 144Hz 1ms GTG IPS LE...</td>\n",
       "      <td>2022-01-15 16:32:54.079223</td>\n",
       "    </tr>\n",
       "    <tr>\n",
       "      <th>4</th>\n",
       "      <td>BenQ 28” 4K UHD 1ms GTG HDR10 FreeSync Gaming ...</td>\n",
       "      <td>2022-01-15 16:32:54.079223</td>\n",
       "    </tr>\n",
       "  </tbody>\n",
       "</table>\n",
       "</div>"
      ],
      "text/plain": [
       "                                        ProductNames  \\\n",
       "0  Acer 27\" 1440p WQHD 170Hz 2ms GTG IPS LED Free...   \n",
       "1  LG UltraFine 27\" 4K Ultra HD 60Hz 5ms GTG IPS ...   \n",
       "2  Asus 28\" 4K Ultra HD 5ms GTG IPS LCD FreeSync ...   \n",
       "3  Acer Nitro 27\" 1440p WQHD 144Hz 1ms GTG IPS LE...   \n",
       "4  BenQ 28” 4K UHD 1ms GTG HDR10 FreeSync Gaming ...   \n",
       "\n",
       "                     DateTime  \n",
       "0  2022-01-15 16:32:54.079223  \n",
       "1  2022-01-15 16:32:54.079223  \n",
       "2  2022-01-15 16:32:54.079223  \n",
       "3  2022-01-15 16:32:54.079223  \n",
       "4  2022-01-15 16:32:54.079223  "
      ]
     },
     "execution_count": 32,
     "metadata": {},
     "output_type": "execute_result"
    }
   ],
   "source": [
    "# testing\n",
    "\n",
    "df_old = pd.read_csv('../Data/ProductNamesNew.csv')\n",
    "\n",
    "df_old.head()"
   ]
  }
 ],
 "metadata": {
  "interpreter": {
   "hash": "1897a026865d0f9dbca7d2271936c757b8ffe40392d670d3e64fa6d450de2c5e"
  },
  "kernelspec": {
   "display_name": "Python 3.10.0 64-bit",
   "language": "python",
   "name": "python3"
  },
  "language_info": {
   "codemirror_mode": {
    "name": "ipython",
    "version": 3
   },
   "file_extension": ".py",
   "mimetype": "text/x-python",
   "name": "python",
   "nbconvert_exporter": "python",
   "pygments_lexer": "ipython3",
   "version": "3.7.11"
  },
  "orig_nbformat": 4
 },
 "nbformat": 4,
 "nbformat_minor": 2
}
