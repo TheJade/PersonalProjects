{
 "cells": [
  {
   "cell_type": "code",
   "execution_count": 99,
   "metadata": {},
   "outputs": [],
   "source": [
    "from selenium import webdriver\n",
    "from selenium.webdriver.chrome.options import Options\n",
    "\n",
    "options = Options()\n",
    "options.headless = True\n",
    "options.add_argument(\"--window-size=1920,1200\")\n",
    "\n",
    "DRIVER_PATH = 'C:/Users/Jade/webdriver/chromedriver.exe'\n",
    "driver = webdriver.Chrome(options=options, executable_path=DRIVER_PATH)\n",
    "driver.get('https://www.bestbuy.ca/en-ca/collection/monitors-on-sale/13061?path=category%253AComputers%2B%2526%2BTablets%253Bcategory%253AMonitors%253Bcurrentoffers0enrchstring%253AOn%2BSale%253Bprice200to1200%253A%2524200%2B-%2B%2524299.99%257C%2524300%2B-%2B%2524399.99%253Bmonitorresolution0enrchstring%253A2560%2Bx%2B1440%257C4K%2BUltra%2BHD%2B%25283840%2Bx%2B2160%2529%253Blcdmonitorscreensize0enrchrange%253A25%2B-%2B29%2Binch%253BsellerName%253ABestBuyCanada')"
   ]
  },
  {
   "cell_type": "code",
   "execution_count": 100,
   "metadata": {},
   "outputs": [],
   "source": [
    "import time\n",
    "\n",
    "time.sleep(20)"
   ]
  },
  {
   "cell_type": "code",
   "execution_count": 101,
   "metadata": {},
   "outputs": [],
   "source": [
    "h1 = driver.find_elements_by_class_name('productItemName_3IZ3c')\n",
    "\n",
    "product_names = []\n",
    "for i in h1:\n",
    "    product_names.append(i.text)"
   ]
  },
  {
   "cell_type": "code",
   "execution_count": 102,
   "metadata": {},
   "outputs": [],
   "source": [
    "df_new = pd.DataFrame (product_names, columns = ['ProductNames'])\n",
    "df_new['DateTime'] = str(datetime.now())"
   ]
  },
  {
   "cell_type": "code",
   "execution_count": 103,
   "metadata": {},
   "outputs": [
    {
     "name": "stdout",
     "output_type": "stream",
     "text": [
      "No change on page\n"
     ]
    }
   ],
   "source": [
    "import pandas as pd\n",
    "from datetime import datetime\n",
    "\n",
    "df_old = pd.read_csv('../PulledData/ProductNamesNew.csv')\n",
    "\n",
    "if df_old['ProductNames'].tolist() != df_new['ProductNames'].tolist():\n",
    "    print('there is a change in on the page')\n",
    "    df_replace = pd.read_csv('../PulledData/ProductNamesNew.csv')\n",
    "    df_replace.to_csv('../PulledData/ProductNamesOld.csv', index=False)\n",
    "    df_new.to_csv('../PulledData/ProductNamesNew.csv', index=False)\n",
    "\n",
    "    print(\"New items on page:\")\n",
    "    for i in df_new['ProductNames'].tolist():\n",
    "        # print('Test:' + str(i))\n",
    "        if i not in df_old['ProductNames'].tolist():\n",
    "            print(i)\n",
    "\n",
    "else:\n",
    "    print('No change on page')\n"
   ]
  }
 ],
 "metadata": {
  "interpreter": {
   "hash": "1897a026865d0f9dbca7d2271936c757b8ffe40392d670d3e64fa6d450de2c5e"
  },
  "kernelspec": {
   "display_name": "Python 3.10.0 64-bit",
   "language": "python",
   "name": "python3"
  },
  "language_info": {
   "codemirror_mode": {
    "name": "ipython",
    "version": 3
   },
   "file_extension": ".py",
   "mimetype": "text/x-python",
   "name": "python",
   "nbconvert_exporter": "python",
   "pygments_lexer": "ipython3",
   "version": "3.7.11"
  },
  "orig_nbformat": 4
 },
 "nbformat": 4,
 "nbformat_minor": 2
}
