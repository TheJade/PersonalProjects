{
 "cells": [
  {
   "cell_type": "code",
   "execution_count": 3,
   "metadata": {},
   "outputs": [],
   "source": [
    "file_name = 'data/enwik9'    #should be .txt"
   ]
  },
  {
   "cell_type": "code",
   "execution_count": 113,
   "metadata": {},
   "outputs": [
    {
     "ename": "KeyboardInterrupt",
     "evalue": "",
     "output_type": "error",
     "traceback": [
      "\u001b[1;31m---------------------------------------------------------------------------\u001b[0m",
      "\u001b[1;31mKeyboardInterrupt\u001b[0m                         Traceback (most recent call last)",
      "\u001b[1;32m~\\AppData\\Local\\Temp/ipykernel_17640/1239553017.py\u001b[0m in \u001b[0;36m<module>\u001b[1;34m\u001b[0m\n\u001b[0;32m      4\u001b[0m \u001b[1;32mwith\u001b[0m \u001b[0mopen\u001b[0m\u001b[1;33m(\u001b[0m\u001b[0mfile_name\u001b[0m \u001b[1;33m+\u001b[0m \u001b[1;34m'.txt'\u001b[0m\u001b[1;33m,\u001b[0m \u001b[1;34m'r'\u001b[0m\u001b[1;33m,\u001b[0m \u001b[0mencoding\u001b[0m\u001b[1;33m=\u001b[0m\u001b[1;34m'utf-8'\u001b[0m\u001b[1;33m)\u001b[0m \u001b[1;32mas\u001b[0m \u001b[0mfile\u001b[0m\u001b[1;33m:\u001b[0m\u001b[1;33m\u001b[0m\u001b[1;33m\u001b[0m\u001b[0m\n\u001b[0;32m      5\u001b[0m     \u001b[1;32mfor\u001b[0m \u001b[0mline\u001b[0m \u001b[1;32min\u001b[0m \u001b[0mfile\u001b[0m\u001b[1;33m:\u001b[0m\u001b[1;33m\u001b[0m\u001b[1;33m\u001b[0m\u001b[0m\n\u001b[1;32m----> 6\u001b[1;33m         \u001b[0mtext_file\u001b[0m \u001b[1;33m+=\u001b[0m \u001b[1;34m\" \"\u001b[0m \u001b[1;33m+\u001b[0m \u001b[0mfile\u001b[0m\u001b[1;33m.\u001b[0m\u001b[0mreadline\u001b[0m\u001b[1;33m(\u001b[0m\u001b[1;33m)\u001b[0m\u001b[1;33m\u001b[0m\u001b[1;33m\u001b[0m\u001b[0m\n\u001b[0m\u001b[0;32m      7\u001b[0m \u001b[1;33m\u001b[0m\u001b[0m\n\u001b[0;32m      8\u001b[0m \u001b[0mhtml_data\u001b[0m \u001b[1;33m=\u001b[0m \u001b[0mtext_file\u001b[0m\u001b[1;33m\u001b[0m\u001b[1;33m\u001b[0m\u001b[0m\n",
      "\u001b[1;32mC:\\Python39\\lib\\codecs.py\u001b[0m in \u001b[0;36mdecode\u001b[1;34m(self, input, final)\u001b[0m\n\u001b[0;32m    317\u001b[0m         \u001b[1;32mraise\u001b[0m \u001b[0mNotImplementedError\u001b[0m\u001b[1;33m\u001b[0m\u001b[1;33m\u001b[0m\u001b[0m\n\u001b[0;32m    318\u001b[0m \u001b[1;33m\u001b[0m\u001b[0m\n\u001b[1;32m--> 319\u001b[1;33m     \u001b[1;32mdef\u001b[0m \u001b[0mdecode\u001b[0m\u001b[1;33m(\u001b[0m\u001b[0mself\u001b[0m\u001b[1;33m,\u001b[0m \u001b[0minput\u001b[0m\u001b[1;33m,\u001b[0m \u001b[0mfinal\u001b[0m\u001b[1;33m=\u001b[0m\u001b[1;32mFalse\u001b[0m\u001b[1;33m)\u001b[0m\u001b[1;33m:\u001b[0m\u001b[1;33m\u001b[0m\u001b[1;33m\u001b[0m\u001b[0m\n\u001b[0m\u001b[0;32m    320\u001b[0m         \u001b[1;31m# decode input (taking the buffer into account)\u001b[0m\u001b[1;33m\u001b[0m\u001b[1;33m\u001b[0m\u001b[1;33m\u001b[0m\u001b[0m\n\u001b[0;32m    321\u001b[0m         \u001b[0mdata\u001b[0m \u001b[1;33m=\u001b[0m \u001b[0mself\u001b[0m\u001b[1;33m.\u001b[0m\u001b[0mbuffer\u001b[0m \u001b[1;33m+\u001b[0m \u001b[0minput\u001b[0m\u001b[1;33m\u001b[0m\u001b[1;33m\u001b[0m\u001b[0m\n",
      "\u001b[1;31mKeyboardInterrupt\u001b[0m: "
     ]
    }
   ],
   "source": [
    "#importing data\n",
    "text_file = \"\"\n",
    "with open(file_name + '.txt', 'r', encoding='utf-8') as file:\n",
    "    for line in file:\n",
    "        text_file += \" \" + file.readline()\n",
    "\n",
    "html_data = text_file"
   ]
  },
  {
   "cell_type": "code",
   "execution_count": 114,
   "metadata": {},
   "outputs": [],
   "source": [
    "html_data = text_file"
   ]
  },
  {
   "cell_type": "code",
   "execution_count": 115,
   "metadata": {},
   "outputs": [],
   "source": [
    "# removing html from text\n",
    "import re\n",
    "# as per recommendation from @freylis, compile once only\n",
    "CLEANR = re.compile('<.*?>|&([a-z0-9]+|#[0-9]{1,6}|#x[0-9a-f]{1,6});') \n",
    "\n",
    "def cleanhtml(raw_html):\n",
    "  cleantext = re.sub(CLEANR, '', raw_html)\n",
    "  return cleantext"
   ]
  },
  {
   "cell_type": "code",
   "execution_count": 116,
   "metadata": {},
   "outputs": [],
   "source": [
    "data = cleanhtml(html_data)"
   ]
  },
  {
   "cell_type": "code",
   "execution_count": 126,
   "metadata": {},
   "outputs": [],
   "source": [
    "# removing symbols and punctuation\n",
    "import re\n",
    "\n",
    "def prep_data(strData):\n",
    "    #punctuation = '''}!()'-[]{;:'\"`\\, <>/?@#$%^&*_~'''\n",
    "    punctuation = '''`~@#$%^&*'\"()_\\t’-+=[{]}\\n|;\":,<>/'''\n",
    "    sentence_endings = '''.!?'''\n",
    "\n",
    "    strData = strData.lower()\n",
    "    \n",
    "    newString = \"\"\n",
    "\n",
    "    for i in strData:\n",
    "        if i in punctuation:\n",
    "            newString += \" \"\n",
    "        elif i in sentence_endings:\n",
    "            newString += \" . \"\n",
    "        else:\n",
    "            newString += i\n",
    "\n",
    "    newString = re.sub(r\"[0-9]+\", \" \", newString)\n",
    "    newString = re.sub(\" +\", \" \", newString)    #removes whitespace\n",
    "    \n",
    "    return newString\n",
    "    "
   ]
  },
  {
   "cell_type": "code",
   "execution_count": null,
   "metadata": {},
   "outputs": [],
   "source": [
    "preped_data = prep_data(data[0:100_000_000])\n",
    "print(data[0:150])\n",
    "print(\"PREPED_DATA:\\n\" + preped_data[0:150])"
   ]
  },
  {
   "cell_type": "code",
   "execution_count": 136,
   "metadata": {},
   "outputs": [
    {
     "ename": "KeyboardInterrupt",
     "evalue": "",
     "output_type": "error",
     "traceback": [
      "\u001b[1;31m---------------------------------------------------------------------------\u001b[0m",
      "\u001b[1;31mKeyboardInterrupt\u001b[0m                         Traceback (most recent call last)",
      "\u001b[1;32m~\\AppData\\Local\\Temp/ipykernel_17640/342225466.py\u001b[0m in \u001b[0;36m<module>\u001b[1;34m\u001b[0m\n\u001b[0;32m      4\u001b[0m     \u001b[1;32mfor\u001b[0m \u001b[0mchar\u001b[0m \u001b[1;32min\u001b[0m \u001b[0mrange\u001b[0m\u001b[1;33m(\u001b[0m\u001b[0mlen\u001b[0m\u001b[1;33m(\u001b[0m\u001b[0mpreped_data\u001b[0m\u001b[1;33m)\u001b[0m\u001b[1;33m)\u001b[0m\u001b[1;33m:\u001b[0m\u001b[1;33m\u001b[0m\u001b[1;33m\u001b[0m\u001b[0m\n\u001b[0;32m      5\u001b[0m         \u001b[1;32mtry\u001b[0m\u001b[1;33m:\u001b[0m\u001b[1;33m\u001b[0m\u001b[1;33m\u001b[0m\u001b[0m\n\u001b[1;32m----> 6\u001b[1;33m             \u001b[0mfile\u001b[0m\u001b[1;33m.\u001b[0m\u001b[0mwrite\u001b[0m\u001b[1;33m(\u001b[0m\u001b[0mpreped_data\u001b[0m\u001b[1;33m[\u001b[0m\u001b[0mchar\u001b[0m\u001b[1;33m]\u001b[0m\u001b[1;33m)\u001b[0m\u001b[1;33m\u001b[0m\u001b[1;33m\u001b[0m\u001b[0m\n\u001b[0m\u001b[0;32m      7\u001b[0m         \u001b[1;32mexcept\u001b[0m \u001b[0mUnicodeEncodeError\u001b[0m \u001b[1;32mas\u001b[0m \u001b[0me\u001b[0m\u001b[1;33m:\u001b[0m\u001b[1;33m\u001b[0m\u001b[1;33m\u001b[0m\u001b[0m\n\u001b[0;32m      8\u001b[0m             \u001b[0mcount_of_errors\u001b[0m \u001b[1;33m+=\u001b[0m \u001b[1;36m1\u001b[0m\u001b[1;33m\u001b[0m\u001b[1;33m\u001b[0m\u001b[0m\n",
      "\u001b[1;31mKeyboardInterrupt\u001b[0m: "
     ]
    }
   ],
   "source": [
    "# convert to text \n",
    "count_of_errors = 0\n",
    "with open(file_name + 'Preped.txt', 'w') as file:\n",
    "    for char in range(len(preped_data)):\n",
    "        try:\n",
    "            file.write(preped_data[char])\n",
    "        except UnicodeEncodeError as e:\n",
    "            count_of_errors += 1\n",
    "\n",
    "print(\"Number of UnicodeEncodeErrors: \" + str(count_of_errors))"
   ]
  },
  {
   "cell_type": "code",
   "execution_count": 4,
   "metadata": {},
   "outputs": [],
   "source": [
    "import fasttext\n",
    " \n",
    "# CBOW model\n",
    "model = fasttext.train_unsupervised(file_name + 'Preped.txt', model=\"skipgram\")\n",
    "#print(model.words) # list of words in dictionary\n",
    " \n",
    "#print(model['bee']) # get the vector of the word 'machine'\n"
   ]
  },
  {
   "cell_type": "code",
   "execution_count": 28,
   "metadata": {},
   "outputs": [
    {
     "name": "stdout",
     "output_type": "stream",
     "text": [
      "[(0.8040978908538818, 'warsaw'), (0.7743706107139587, 'wars'), (0.7425307035446167, 'warfare'), (0.7287096977233887, 'civil'), (0.7182565927505493, 'warp'), (0.7109067440032959, 'wwii'), (0.7023887038230896, 'vietnam'), (0.6839435696601868, 'anwar'), (0.6824724078178406, 'revolutionaries'), (0.6789759993553162, 'troops')]\n"
     ]
    }
   ],
   "source": [
    "print(model.get_nearest_neighbors('war', k=10))   # k is number of neighbors printed # 3979"
   ]
  },
  {
   "cell_type": "code",
   "execution_count": 27,
   "metadata": {},
   "outputs": [
    {
     "name": "stdout",
     "output_type": "stream",
     "text": [
      "[(0.8275657296180725, 'ideas'), (0.7904837131500244, 'ideals'), (0.7698685526847839, 'ideal'), (0.7591525912284851, 'idealism'), (0.7479462623596191, 'idealistic'), (0.7443109154701233, 'identify'), (0.7404834628105164, 'intellectualism'), (0.7242729663848877, 'intellect'), (0.7197803854942322, 'intellectuals'), (0.7120714783668518, 'mysticism')]\n"
     ]
    }
   ],
   "source": [
    "#print(model.words)\n",
    "print(model.get_nearest_neighbors('idea', k=10))   # k is number of neighbors printed # 419\n",
    "#print(model.get_word_vector('whale'))"
   ]
  },
  {
   "cell_type": "code",
   "execution_count": 29,
   "metadata": {},
   "outputs": [
    {
     "name": "stdout",
     "output_type": "stream",
     "text": [
      "[(0.8164437413215637, 'cookie'), (0.7973142862319946, 'coosa'), (0.7908571362495422, 'corey'), (0.7832729816436768, 'cork'), (0.7762061953544617, 'colonel'), (0.7687967419624329, 'corridor'), (0.7650163173675537, 'cow'), (0.7610797882080078, 'coffin'), (0.7608816027641296, 'cologne'), (0.7578486204147339, 'cornwall')]\n"
     ]
    }
   ],
   "source": [
    "print(model.get_nearest_neighbors('cook', k=10))   # k is number of neighbors printed  # 70"
   ]
  },
  {
   "cell_type": "code",
   "execution_count": 30,
   "metadata": {},
   "outputs": [
    {
     "name": "stdout",
     "output_type": "stream",
     "text": [
      "[(0.8838279247283936, 'germany'), (0.8760443925857544, 'germans'), (0.8696774840354919, 'germanic'), (0.8335726261138916, 'herman'), (0.8151317834854126, 'lieberman'), (0.7954522967338562, 'germ'), (0.7800586223602295, 'sherman'), (0.7681736350059509, 'hermann'), (0.7662727236747742, 'eiermann'), (0.700739324092865, 'prussian')]\n"
     ]
    }
   ],
   "source": [
    "print(model.get_nearest_neighbors('german', k=10))   # k is number of neighbors printed # 974"
   ]
  },
  {
   "cell_type": "code",
   "execution_count": 31,
   "metadata": {},
   "outputs": [
    {
     "name": "stdout",
     "output_type": "stream",
     "text": [
      "[(0.9034358859062195, 'politics'), (0.8681234121322632, 'political'), (0.8253229260444641, 'politicians'), (0.8087322115898132, 'politician'), (0.79075688123703, 'politically'), (0.7489173412322998, 'critic'), (0.7485480904579163, 'libertarian'), (0.7437657713890076, 'democratic'), (0.7398150563240051, 'libertarianism'), (0.7390667796134949, 'socratic')]\n"
     ]
    }
   ],
   "source": [
    "print(model.get_nearest_neighbors('politic', k=10))   # k is number of neighbors printed # 748 results"
   ]
  }
 ],
 "metadata": {
  "interpreter": {
   "hash": "5df857cdbab72c216d4bc6112ed3bdaf3249cef1891dfd34918d8d39e5604989"
  },
  "kernelspec": {
   "display_name": "Python 3.9.2 64-bit ('venv': venv)",
   "name": "python3"
  },
  "language_info": {
   "codemirror_mode": {
    "name": "ipython",
    "version": 3
   },
   "file_extension": ".py",
   "mimetype": "text/x-python",
   "name": "python",
   "nbconvert_exporter": "python",
   "pygments_lexer": "ipython3",
   "version": "3.9.2"
  },
  "orig_nbformat": 4
 },
 "nbformat": 4,
 "nbformat_minor": 2
}
