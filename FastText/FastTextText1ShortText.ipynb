{
 "cells": [
  {
   "cell_type": "code",
   "execution_count": 1,
   "metadata": {},
   "outputs": [],
   "source": [
    "#importing data\n",
    "file_name = 'data/MobyDick'    #should be .txt\n",
    "text_file = \"\"\n",
    "with open(file_name + '.txt', 'r', encoding='utf-8') as file:\n",
    "    for line in file:\n",
    "        text_file += \" \" + file.readline()\n",
    "\n",
    "html_data = text_file"
   ]
  },
  {
   "cell_type": "code",
   "execution_count": 2,
   "metadata": {},
   "outputs": [],
   "source": [
    "html_data = text_file"
   ]
  },
  {
   "cell_type": "code",
   "execution_count": 3,
   "metadata": {},
   "outputs": [],
   "source": [
    "# removing html from text\n",
    "import re\n",
    "# as per recommendation from @freylis, compile once only\n",
    "CLEANR = re.compile('<.*?>|&([a-z0-9]+|#[0-9]{1,6}|#x[0-9a-f]{1,6});') \n",
    "\n",
    "def cleanhtml(raw_html):\n",
    "  cleantext = re.sub(CLEANR, '', raw_html)\n",
    "  return cleantext"
   ]
  },
  {
   "cell_type": "code",
   "execution_count": 4,
   "metadata": {},
   "outputs": [],
   "source": [
    "data = cleanhtml(html_data)"
   ]
  },
  {
   "cell_type": "code",
   "execution_count": 5,
   "metadata": {},
   "outputs": [],
   "source": [
    "# removing symbols and punctuation\n",
    "import re\n",
    "\n",
    "def prep_data(strData):\n",
    "    #punctuation = '''}!()'-[]{;:'\"`\\, <>/?@#$%^&*_~'''\n",
    "    punctuation = '''`~@#$%^&*'\"()_\\t’-+=[{]}\\n|;\":,<>/'''\n",
    "    sentence_endings = '''.!?'''\n",
    "\n",
    "    strData = strData.lower()\n",
    "    \n",
    "    newString = \"\"\n",
    "\n",
    "    for i in strData:\n",
    "        if i in punctuation:\n",
    "            newString += \" \"\n",
    "        elif i in sentence_endings:\n",
    "            newString += \" . \"\n",
    "        else:\n",
    "            newString += i\n",
    "\n",
    "    newString = re.sub(r\"[0-9]+\", \" \", newString)\n",
    "    newString = re.sub(\" +\", \" \", newString)    #removes whitespace\n",
    "    \n",
    "    return newString\n",
    "    "
   ]
  },
  {
   "cell_type": "code",
   "execution_count": 6,
   "metadata": {},
   "outputs": [
    {
     "name": "stdout",
     "output_type": "stream",
     "text": [
      " little or no money in my purse, and nothing particular to interest me\n",
      " of the world. It is a way I have of driving off the spleen and\n",
      " the mouth; whe\n",
      "PREPED_DATA:\n",
      " little or no money in my purse and nothing particular to interest me of the world . it is a way i have of driving off the spleen and the mouth whenev\n"
     ]
    }
   ],
   "source": [
    "preped_data = prep_data(data[0:10_000_000])\n",
    "print(data[0:150])\n",
    "print(\"PREPED_DATA:\\n\" + preped_data[0:150])"
   ]
  },
  {
   "cell_type": "code",
   "execution_count": 7,
   "metadata": {},
   "outputs": [
    {
     "name": "stdout",
     "output_type": "stream",
     "text": [
      "Number of UnicodeEncodeErrors: 0\n"
     ]
    }
   ],
   "source": [
    "# convert to text \n",
    "count_of_errors = 0\n",
    "with open(file_name + 'Preped.txt', 'w') as file:\n",
    "    for char in range(len(preped_data)):\n",
    "        try:\n",
    "            file.write(preped_data[char])\n",
    "        except UnicodeEncodeError as e:\n",
    "            count_of_errors += 1\n",
    "\n",
    "print(\"Number of UnicodeEncodeErrors: \" + str(count_of_errors))"
   ]
  },
  {
   "cell_type": "code",
   "execution_count": 8,
   "metadata": {},
   "outputs": [],
   "source": [
    "import fasttext\n",
    " \n",
    "# CBOW model\n",
    "model = fasttext.train_unsupervised(file_name + 'Preped.txt', model=\"skipgram\")\n",
    "#print(model.words) # list of words in dictionary\n",
    " \n",
    "#print(model['bee']) # get the vector of the word 'machine'\n"
   ]
  },
  {
   "cell_type": "code",
   "execution_count": 11,
   "metadata": {},
   "outputs": [
    {
     "name": "stdout",
     "output_type": "stream",
     "text": [
      "[(0.9995912313461304, 'heightened'), (0.9994584918022156, 'welded'), (0.9994415044784546, 'troubled'), (0.999405026435852, 'height'), (0.9993930459022522, 'bright'), (0.9993921518325806, 'wretched'), (0.9993899464607239, 'broken'), (0.99937903881073, 'lights'), (0.999377965927124, 'plunged'), (0.9993652105331421, 'shrouded')]\n"
     ]
    }
   ],
   "source": [
    "#print(model.words)\n",
    "print(model.get_nearest_neighbors('war'))   # too based words"
   ]
  },
  {
   "cell_type": "code",
   "execution_count": 12,
   "metadata": {},
   "outputs": [
    {
     "name": "stdout",
     "output_type": "stream",
     "text": [
      "[(0.9997948408126831, 'latitudes'), (0.9997448921203613, 'impossible'), (0.9997380971908569, 'properly'), (0.9997325539588928, 'convenient'), (0.9997217655181885, 'century'), (0.9997186660766602, 'centuries'), (0.9997000694274902, 'scientific'), (0.999689519405365, 'carries'), (0.9996894001960754, 'horses'), (0.9996893405914307, 'countenance')]\n"
     ]
    }
   ],
   "source": [
    "print(model.get_nearest_neighbors('idea'))  # 24\n"
   ]
  },
  {
   "cell_type": "code",
   "execution_count": 16,
   "metadata": {},
   "outputs": [
    {
     "ename": "UnicodeDecodeError",
     "evalue": "'utf-8' codec can't decode byte 0x93 in position 0: invalid start byte",
     "output_type": "error",
     "traceback": [
      "\u001b[1;31m---------------------------------------------------------------------------\u001b[0m",
      "\u001b[1;31mUnicodeDecodeError\u001b[0m                        Traceback (most recent call last)",
      "\u001b[1;32m~\\AppData\\Local\\Temp/ipykernel_19436/2746681316.py\u001b[0m in \u001b[0;36m<module>\u001b[1;34m\u001b[0m\n\u001b[1;32m----> 1\u001b[1;33m \u001b[0mprint\u001b[0m\u001b[1;33m(\u001b[0m\u001b[0mmodel\u001b[0m\u001b[1;33m.\u001b[0m\u001b[0mget_nearest_neighbors\u001b[0m\u001b[1;33m(\u001b[0m\u001b[1;34m'cook'\u001b[0m\u001b[1;33m)\u001b[0m\u001b[1;33m)\u001b[0m   \u001b[1;31m# k is number of neighbors printed  # 70\u001b[0m\u001b[1;33m\u001b[0m\u001b[1;33m\u001b[0m\u001b[0m\n\u001b[0m",
      "\u001b[1;32mc:\\Users\\Jade\\Documents\\GitHub\\PersonalProjects\\FastText\\venv\\lib\\site-packages\\fasttext\\FastText.py\u001b[0m in \u001b[0;36mget_nearest_neighbors\u001b[1;34m(self, word, k, on_unicode_error)\u001b[0m\n\u001b[0;32m    143\u001b[0m \u001b[1;33m\u001b[0m\u001b[0m\n\u001b[0;32m    144\u001b[0m     \u001b[1;32mdef\u001b[0m \u001b[0mget_nearest_neighbors\u001b[0m\u001b[1;33m(\u001b[0m\u001b[0mself\u001b[0m\u001b[1;33m,\u001b[0m \u001b[0mword\u001b[0m\u001b[1;33m,\u001b[0m \u001b[0mk\u001b[0m\u001b[1;33m=\u001b[0m\u001b[1;36m10\u001b[0m\u001b[1;33m,\u001b[0m \u001b[0mon_unicode_error\u001b[0m\u001b[1;33m=\u001b[0m\u001b[1;34m'strict'\u001b[0m\u001b[1;33m)\u001b[0m\u001b[1;33m:\u001b[0m\u001b[1;33m\u001b[0m\u001b[1;33m\u001b[0m\u001b[0m\n\u001b[1;32m--> 145\u001b[1;33m         \u001b[1;32mreturn\u001b[0m \u001b[0mself\u001b[0m\u001b[1;33m.\u001b[0m\u001b[0mf\u001b[0m\u001b[1;33m.\u001b[0m\u001b[0mgetNN\u001b[0m\u001b[1;33m(\u001b[0m\u001b[0mword\u001b[0m\u001b[1;33m,\u001b[0m \u001b[0mk\u001b[0m\u001b[1;33m,\u001b[0m \u001b[0mon_unicode_error\u001b[0m\u001b[1;33m)\u001b[0m\u001b[1;33m\u001b[0m\u001b[1;33m\u001b[0m\u001b[0m\n\u001b[0m\u001b[0;32m    146\u001b[0m \u001b[1;33m\u001b[0m\u001b[0m\n\u001b[0;32m    147\u001b[0m     def get_analogies(self, wordA, wordB, wordC, k=10,\n",
      "\u001b[1;31mUnicodeDecodeError\u001b[0m: 'utf-8' codec can't decode byte 0x93 in position 0: invalid start byte"
     ]
    }
   ],
   "source": [
    "print(model.get_nearest_neighbors('cook'))   # k is number of neighbors printed  # 70"
   ]
  },
  {
   "cell_type": "code",
   "execution_count": 15,
   "metadata": {},
   "outputs": [
    {
     "name": "stdout",
     "output_type": "stream",
     "text": [
      "[(0.9998674988746643, 'japan'), (0.9998366236686707, 'smitten'), (0.9998217225074768, 'veil'), (0.9997981190681458, 'marvellous'), (0.9997815489768982, 'africa'), (0.999748945236206, 'roman'), (0.9997348785400391, 'heidelburgh'), (0.9997291564941406, 'apprehension'), (0.999725341796875, 'pursuit'), (0.9997221827507019, 'significant')]\n"
     ]
    }
   ],
   "source": [
    "print(model.get_nearest_neighbors('german', k=10))   # k is number of neighbors printed # 974"
   ]
  }
 ],
 "metadata": {
  "interpreter": {
   "hash": "5df857cdbab72c216d4bc6112ed3bdaf3249cef1891dfd34918d8d39e5604989"
  },
  "kernelspec": {
   "display_name": "Python 3.9.2 64-bit ('venv': venv)",
   "name": "python3"
  },
  "language_info": {
   "codemirror_mode": {
    "name": "ipython",
    "version": 3
   },
   "file_extension": ".py",
   "mimetype": "text/x-python",
   "name": "python",
   "nbconvert_exporter": "python",
   "pygments_lexer": "ipython3",
   "version": "3.9.2"
  },
  "orig_nbformat": 4
 },
 "nbformat": 4,
 "nbformat_minor": 2
}
