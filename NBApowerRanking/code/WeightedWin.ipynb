{
 "cells": [
  {
   "cell_type": "code",
   "execution_count": 25,
   "metadata": {},
   "outputs": [],
   "source": [
    "# data received from https://sports-statistics.com/sports-data/nba-basketball-datasets-csv-files/"
   ]
  },
  {
   "cell_type": "code",
   "execution_count": 26,
   "metadata": {},
   "outputs": [],
   "source": [
    "import pandas as pd\n",
    "\n",
    "# %%timeit"
   ]
  },
  {
   "cell_type": "code",
   "execution_count": 27,
   "metadata": {},
   "outputs": [
    {
     "name": "stdout",
     "output_type": "stream",
     "text": [
      "<class 'pandas.core.frame.DataFrame'>\n",
      "RangeIndex: 1060 entries, 0 to 1059\n",
      "Data columns (total 7 columns):\n",
      " #   Column       Non-Null Count  Dtype \n",
      "---  ------       --------------  ----- \n",
      " 0   GameType     1060 non-null   object\n",
      " 1   Date         1060 non-null   object\n",
      " 2   WinningTeam  1060 non-null   object\n",
      " 3   AwayTeam     1060 non-null   object\n",
      " 4   AwayScore    1060 non-null   int64 \n",
      " 5   HomeTeam     1060 non-null   object\n",
      " 6   HomeScore    1060 non-null   int64 \n",
      "dtypes: int64(2), object(5)\n",
      "memory usage: 58.1+ KB\n"
     ]
    }
   ],
   "source": [
    "# reading and reducing dataset\n",
    "\n",
    "path = '../data/2019-20_pbp.csv'\n",
    "\n",
    "df = pd.read_csv(path)\n",
    "\n",
    "outcome = df[df['AwayPlay']=='End of Game']\n",
    "\n",
    "outcome = outcome[outcome['GameType']=='regular']\n",
    "\n",
    "col_wanted=['GameType','Date', 'WinningTeam', 'AwayTeam', 'AwayScore', 'HomeTeam', 'HomeScore']\n",
    "\n",
    "outcome = outcome[col_wanted]\n",
    "\n",
    "outcome.to_csv(path[0:-8] + '_outcome.csv')\n",
    "\n",
    "outcome.reset_index(drop=True, inplace=True)\n",
    "\n",
    "outcome.info()"
   ]
  },
  {
   "cell_type": "code",
   "execution_count": 28,
   "metadata": {},
   "outputs": [
    {
     "data": {
      "image/png": "[encoded data removed]",
      "text/plain": [
       "<Figure size 432x288 with 1 Axes>"
      ]
     },
     "metadata": {
      "needs_background": "light"
     },
     "output_type": "display_data"
    }
   ],
   "source": [
    "import matplotlib.pyplot as plt\n",
    "import numpy as np\n",
    "\n",
    "weight=0.1\n",
    "scale=7\n",
    "\n",
    "samples=len(outcome)\n",
    "\n",
    "blow_out=15\n",
    "\n",
    "away_score=[i for i in outcome['AwayScore'][0:samples]]\n",
    "home_score=[i for i in outcome['HomeScore'][0:samples]]\n",
    "# difference=[i-home_score for i in away_score]\n",
    "difference=[away_score[i]-home_score[i] for i in range(len(away_score))]\n",
    "for i in range(len(difference)):\n",
    "    if difference[i]>blow_out:\n",
    "        difference[i]= blow_out\n",
    "    elif difference[i] < (-blow_out):\n",
    "        difference[i] = -blow_out\n",
    "weighted=[weight*i for i in difference]\n",
    "scaled=[i**scale for i in weighted]\n",
    "\n",
    "\n",
    "fig = plt.figure()\n",
    "a1 = fig.add_axes([0,0,1,1])\n",
    "a1.plot(difference, scaled, 'o')\n",
    "a1.set_title('Weighting Distribution')\n",
    "a1.set_ylim(-5,5)\n",
    "a1.set_xlim(-20,20)\n",
    "# a1.set_xlim(85,115)\n",
    "plt.show()"
   ]
  },
  {
   "cell_type": "code",
   "execution_count": 29,
   "metadata": {},
   "outputs": [],
   "source": [
    "outcome['Weighted_Result']=scaled"
   ]
  },
  {
   "cell_type": "code",
   "execution_count": 30,
   "metadata": {},
   "outputs": [],
   "source": [
    "def unique(list1):\n",
    " \n",
    "    # initialize a null list\n",
    "    unique_list = []\n",
    "     \n",
    "    # traverse for all elements\n",
    "    for x in list1:\n",
    "        # check if exists in unique_list or not\n",
    "        if x not in unique_list:\n",
    "            unique_list.append(x)\n",
    "    return unique_list"
   ]
  },
  {
   "cell_type": "code",
   "execution_count": 31,
   "metadata": {},
   "outputs": [],
   "source": [
    "teams=unique(outcome['HomeTeam'])\n",
    "\n",
    "team_results=[]\n",
    "for i in range(len(teams)):#len(teams)):\n",
    "    team_total=0\n",
    "    for j in range(len(outcome)):\n",
    "        if outcome['AwayTeam'][j]==teams[i]: \n",
    "            team_total+=outcome['Weighted_Result'][j]\n",
    "        elif outcome['HomeTeam'][j]==teams[i]:\n",
    "            team_total-=outcome['Weighted_Result'][j]\n",
    "    #print(teams[i] + ':  ' + str(team_total))\n",
    "    team_results.append(team_total)"
   ]
  },
  {
   "cell_type": "code",
   "execution_count": 32,
   "metadata": {},
   "outputs": [],
   "source": [
    " # initialise data of lists.\n",
    "data = {'Team':teams, 'Weighted_Result':team_results}\n",
    " \n",
    "# Create DataFrame\n",
    "df_export = pd.DataFrame(data)"
   ]
  },
  {
   "cell_type": "code",
   "execution_count": 33,
   "metadata": {},
   "outputs": [],
   "source": [
    "average_point_dif_win=[]\n",
    "average_point_dif_loss=[]\n",
    "\n",
    "for i in range(len(teams)):#len(teams)):\n",
    "    team_dif_win=0\n",
    "    team_dif_loss=0\n",
    "    total_games_win=0\n",
    "    total_games_loss=0\n",
    "    for j in range(len(outcome)):\n",
    "        if outcome['AwayTeam'][j]==teams[i]:\n",
    "            if outcome['AwayScore'][j]>outcome['HomeScore'][j]:\n",
    "                team_dif_win+= (outcome['AwayScore'][j]-outcome['HomeScore'][j])\n",
    "                total_games_win+=1\n",
    "            else:\n",
    "                team_dif_loss += (outcome['AwayScore'][j]-outcome['HomeScore'][j])\n",
    "                total_games_loss+=1\n",
    "        elif outcome['HomeTeam'][j]==teams[i]:\n",
    "            if outcome['AwayScore'][j]<outcome['HomeScore'][j]:\n",
    "                team_dif_win+= (outcome['HomeScore'][j]-outcome['AwayScore'][j])\n",
    "                total_games_win+=1\n",
    "            else:\n",
    "                team_dif_loss += (outcome['HomeScore'][j]-outcome['AwayScore'][j])\n",
    "                total_games_loss+=1\n",
    "    \n",
    "    average_point_dif_win.append(team_dif_win/total_games_win)\n",
    "    average_point_dif_loss.append(team_dif_loss/total_games_loss)\n",
    "    \n",
    "df_export['Average_Point_Dif_Win']=average_point_dif_win\n",
    "df_export['Average_Point_Dif_Loss']=average_point_dif_loss"
   ]
  },
  {
   "cell_type": "code",
   "execution_count": 37,
   "metadata": {},
   "outputs": [
    {
     "name": "stdout",
     "output_type": "stream",
     "text": [
      "   Team  Weighted_Result  Average_Point_Dif_Win  Average_Point_Dif_Loss\n",
      "0   MIL       439.706858              15.946429               -9.235294\n",
      "1   LAC       348.321409              14.428571              -10.565217\n",
      "2   BOS       273.650894              13.000000               -7.083333\n",
      "3   DAL       232.194466              14.139535               -7.406250\n",
      "4   TOR       225.091927              11.773585               -9.210526\n",
      "5   LAL       188.826038              12.288462              -12.000000\n",
      "6   MIA       129.742797              11.477273              -10.000000\n",
      "7   HOU        99.083438              12.431818              -11.928571\n",
      "8   OKC        92.871830              10.159091              -10.857143\n",
      "9   UTA        73.955385              10.295455               -9.821429\n",
      "10  PHI        50.193621              11.255814              -10.333333\n",
      "11  IND        39.581105              10.511111              -11.785714\n",
      "12  DEN        28.277698               9.543478              -10.555556\n",
      "13  NOP         3.249973              11.133333              -10.166667\n",
      "14  POR       -11.685528               9.583333              -10.923077\n",
      "15  BRK       -12.245951              10.571429              -11.108108\n",
      "16  PHO       -13.160153              12.235294              -10.256410\n",
      "17  SAS       -20.203955               9.093750               -9.487179\n",
      "18  MEM       -34.433580              12.705882              -12.850000\n",
      "19  ORL       -61.937068              11.181818              -11.075000\n",
      "20  CHI       -92.136324              10.363636               -9.953488\n",
      "21  MIN       -93.884057              10.894737              -10.711111\n",
      "22  SAC      -100.270638               9.064516              -10.439024\n",
      "23  DET      -140.118592              14.000000              -11.195652\n",
      "24  WAS      -187.568698               9.960000              -12.446809\n",
      "25  NYK      -236.215924               8.761905              -13.555556\n",
      "26  ATL      -274.264451               9.850000              -15.553191\n",
      "27  CLE      -309.457315               8.473684              -14.652174\n",
      "28  GSW      -312.545265              11.066667              -14.640000\n",
      "29  CHO      -324.619940               5.956522              -13.714286\n"
     ]
    }
   ],
   "source": [
    "df_export.sort_values(by=['Weighted_Result'], ascending=False, inplace=True)\n",
    "df_export.reset_index(drop=True, inplace=True)\n",
    "\n",
    "print(df_export)\n",
    "df_export.to_csv(path[0:-8] + '_calculation_results.csv')"
   ]
  }
 ],
 "metadata": {
  "interpreter": {
   "hash": "142b170622e6492098e9ec848880d3e7c988521c446331b81f4cf061ee8385bf"
  },
  "kernelspec": {
   "display_name": "Python 3.8.8 64-bit ('base': conda)",
   "language": "python",
   "name": "python3"
  },
  "language_info": {
   "codemirror_mode": {
    "name": "ipython",
    "version": 3
   },
   "file_extension": ".py",
   "mimetype": "text/x-python",
   "name": "python",
   "nbconvert_exporter": "python",
   "pygments_lexer": "ipython3",
   "version": "3.7.11"
  },
  "orig_nbformat": 4
 },
 "nbformat": 4,
 "nbformat_minor": 2
}
