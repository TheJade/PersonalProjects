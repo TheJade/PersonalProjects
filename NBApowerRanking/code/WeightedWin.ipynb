{
 "cells": [
  {
   "cell_type": "code",
   "execution_count": 252,
   "metadata": {},
   "outputs": [],
   "source": [
    "# data received from https://sports-statistics.com/sports-data/nba-basketball-datasets-csv-files/"
   ]
  },
  {
   "cell_type": "code",
   "execution_count": 253,
   "metadata": {},
   "outputs": [],
   "source": [
    "import pandas as pd\n",
    "\n",
    "# %%timeit"
   ]
  },
  {
   "cell_type": "code",
   "execution_count": 254,
   "metadata": {},
   "outputs": [
    {
     "name": "stdout",
     "output_type": "stream",
     "text": [
      "<class 'pandas.core.frame.DataFrame'>\n",
      "RangeIndex: 1060 entries, 0 to 1059\n",
      "Data columns (total 7 columns):\n",
      " #   Column       Non-Null Count  Dtype \n",
      "---  ------       --------------  ----- \n",
      " 0   GameType     1060 non-null   object\n",
      " 1   Date         1060 non-null   object\n",
      " 2   WinningTeam  1060 non-null   object\n",
      " 3   AwayTeam     1060 non-null   object\n",
      " 4   AwayScore    1060 non-null   int64 \n",
      " 5   HomeTeam     1060 non-null   object\n",
      " 6   HomeScore    1060 non-null   int64 \n",
      "dtypes: int64(2), object(5)\n",
      "memory usage: 58.1+ KB\n"
     ]
    }
   ],
   "source": [
    "# reading and reducing dataset\n",
    "\n",
    "path = '../data/2019-20_pbp.csv'\n",
    "\n",
    "df = pd.read_csv(path)\n",
    "\n",
    "outcome = df[df['AwayPlay']=='End of Game']\n",
    "\n",
    "outcome = outcome[outcome['GameType']=='regular']\n",
    "\n",
    "col_wanted=['GameType','Date', 'WinningTeam', 'AwayTeam', 'AwayScore', 'HomeTeam', 'HomeScore']\n",
    "\n",
    "outcome = outcome[col_wanted]\n",
    "\n",
    "outcome.to_csv(path[0:-8] + '_outcome.csv')\n",
    "\n",
    "outcome.reset_index(drop=True, inplace=True)\n",
    "\n",
    "outcome.info()"
   ]
  },
  {
   "cell_type": "code",
   "execution_count": 255,
   "metadata": {},
   "outputs": [
    {
     "data": {
      "image/png": "[encoded data removed]",
      "text/plain": [
       "<Figure size 432x288 with 1 Axes>"
      ]
     },
     "metadata": {
      "needs_background": "light"
     },
     "output_type": "display_data"
    }
   ],
   "source": [
    "import matplotlib.pyplot as plt\n",
    "import numpy as np\n",
    "\n",
    "weight=0.05\n",
    "scale=7\n",
    "\n",
    "samples=len(outcome)\n",
    "\n",
    "blow_out=15\n",
    "\n",
    "away_score=[i for i in outcome['AwayScore'][0:samples]]\n",
    "home_score=[i for i in outcome['HomeScore'][0:samples]]\n",
    "# difference=[i-home_score for i in away_score]\n",
    "difference=[away_score[i]-home_score[i] for i in range(len(away_score))]\n",
    "for i in range(len(difference)):\n",
    "    if difference[i]>blow_out:\n",
    "        difference[i]= blow_out\n",
    "    elif difference[i] < (-blow_out):\n",
    "        difference[i] = -blow_out\n",
    "weighted=[weight*i for i in difference]\n",
    "scaled=[i**scale for i in weighted]\n",
    "\n",
    "\n",
    "fig = plt.figure()\n",
    "a1 = fig.add_axes([0,0,1,1])\n",
    "a1.plot(difference, scaled, 'o')\n",
    "a1.set_title('Weighting Distribution')\n",
    "a1.set_ylim(-0.05,0.05)\n",
    "a1.set_xlim(-20,20)\n",
    "# a1.set_xlim(85,115)\n",
    "plt.show()"
   ]
  },
  {
   "cell_type": "code",
   "execution_count": 256,
   "metadata": {},
   "outputs": [],
   "source": [
    "outcome['Weighted_Result']=scaled"
   ]
  },
  {
   "cell_type": "code",
   "execution_count": 257,
   "metadata": {},
   "outputs": [],
   "source": [
    "def unique(list1):\n",
    " \n",
    "    # initialize a null list\n",
    "    unique_list = []\n",
    "     \n",
    "    # traverse for all elements\n",
    "    for x in list1:\n",
    "        # check if exists in unique_list or not\n",
    "        if x not in unique_list:\n",
    "            unique_list.append(x)\n",
    "    return unique_list"
   ]
  },
  {
   "cell_type": "code",
   "execution_count": 258,
   "metadata": {},
   "outputs": [],
   "source": [
    "teams=unique(outcome['HomeTeam'])\n",
    "\n",
    "team_results=[]\n",
    "for i in range(len(teams)):#len(teams)):\n",
    "    team_total=0\n",
    "    for j in range(len(outcome)):\n",
    "        if outcome['AwayTeam'][j]==teams[i]: \n",
    "            team_total+=outcome['Weighted_Result'][j]\n",
    "        elif outcome['HomeTeam'][j]==teams[i]:\n",
    "            team_total-=outcome['Weighted_Result'][j]\n",
    "    #print(teams[i] + ':  ' + str(team_total))\n",
    "    team_results.append(team_total)"
   ]
  },
  {
   "cell_type": "code",
   "execution_count": 259,
   "metadata": {},
   "outputs": [
    {
     "name": "stdout",
     "output_type": "stream",
     "text": [
      "   Team  Weighted_Result\n",
      "0   MIL         3.435210\n",
      "1   LAC         2.721261\n",
      "2   BOS         2.137898\n",
      "3   DAL         1.814019\n",
      "4   TOR         1.758531\n",
      "5   LAL         1.475203\n",
      "6   MIA         1.013616\n",
      "7   HOU         0.774089\n",
      "8   OKC         0.725561\n",
      "9   UTA         0.577776\n",
      "10  PHI         0.392138\n",
      "11  IND         0.309227\n",
      "12  DEN         0.220920\n",
      "13  NOP         0.025390\n",
      "14  POR        -0.091293\n",
      "15  BRK        -0.095671\n",
      "16  PHO        -0.102814\n",
      "17  SAS        -0.157843\n",
      "18  MEM        -0.269012\n",
      "19  ORL        -0.483883\n",
      "20  CHI        -0.719815\n",
      "21  MIN        -0.733469\n",
      "22  SAC        -0.783364\n",
      "23  DET        -1.094676\n",
      "24  WAS        -1.465380\n",
      "25  NYK        -1.845437\n",
      "26  ATL        -2.142691\n",
      "27  CLE        -2.417635\n",
      "28  GSW        -2.441760\n",
      "29  CHO        -2.536093\n"
     ]
    }
   ],
   "source": [
    " # initialise data of lists.\n",
    "data = {'Team':teams, 'Weighted_Result':team_results}\n",
    " \n",
    "# Create DataFrame\n",
    "df = pd.DataFrame(data)\n",
    " \n",
    "df.sort_values(by=['Weighted_Result'], ascending=False, inplace=True)\n",
    "df.reset_index(drop=True, inplace=True)\n",
    "\n",
    "print(df)\n",
    "\n",
    "df.to_csv(path[0:-8] + '_weighted_results.csv')"
   ]
  }
 ],
 "metadata": {
  "interpreter": {
   "hash": "142b170622e6492098e9ec848880d3e7c988521c446331b81f4cf061ee8385bf"
  },
  "kernelspec": {
   "display_name": "Python 3.8.8 64-bit ('base': conda)",
   "language": "python",
   "name": "python3"
  },
  "language_info": {
   "codemirror_mode": {
    "name": "ipython",
    "version": 3
   },
   "file_extension": ".py",
   "mimetype": "text/x-python",
   "name": "python",
   "nbconvert_exporter": "python",
   "pygments_lexer": "ipython3",
   "version": "3.7.11"
  },
  "orig_nbformat": 4
 },
 "nbformat": 4,
 "nbformat_minor": 2
}
